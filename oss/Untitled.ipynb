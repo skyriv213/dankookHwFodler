{
 "cells": [
  {
   "cell_type": "code",
   "execution_count": 7,
   "id": "c03c8364-9f94-470d-a480-23e7b25cfeb6",
   "metadata": {},
   "outputs": [
    {
     "name": "stdout",
     "output_type": "stream",
     "text": [
      "Requirement already satisfied: jupyter_nbextensions_configurator in /Users/skyriv213/anaconda3/lib/python3.11/site-packages (0.6.3)\n",
      "Requirement already satisfied: jupyter_contrib_nbextensions in /Users/skyriv213/anaconda3/lib/python3.11/site-packages (0.7.0)\n",
      "Requirement already satisfied: jupyter-contrib-core>=0.3.3 in /Users/skyriv213/anaconda3/lib/python3.11/site-packages (from jupyter_nbextensions_configurator) (0.4.2)\n",
      "Requirement already satisfied: jupyter-core in /Users/skyriv213/anaconda3/lib/python3.11/site-packages (from jupyter_nbextensions_configurator) (5.5.0)\n",
      "Requirement already satisfied: notebook>=6.0 in /Users/skyriv213/anaconda3/lib/python3.11/site-packages (from jupyter_nbextensions_configurator) (6.4.12)\n",
      "Requirement already satisfied: pyyaml in /Users/skyriv213/anaconda3/lib/python3.11/site-packages (from jupyter_nbextensions_configurator) (6.0.1)\n",
      "Requirement already satisfied: tornado in /Users/skyriv213/anaconda3/lib/python3.11/site-packages (from jupyter_nbextensions_configurator) (6.3.3)\n",
      "Requirement already satisfied: traitlets in /Users/skyriv213/anaconda3/lib/python3.11/site-packages (from jupyter_nbextensions_configurator) (5.7.1)\n",
      "Requirement already satisfied: ipython-genutils in /Users/skyriv213/anaconda3/lib/python3.11/site-packages (from jupyter_contrib_nbextensions) (0.2.0)\n",
      "Requirement already satisfied: jupyter-highlight-selected-word>=0.1.1 in /Users/skyriv213/anaconda3/lib/python3.11/site-packages (from jupyter_contrib_nbextensions) (0.2.0)\n",
      "Requirement already satisfied: nbconvert>=6.0 in /Users/skyriv213/anaconda3/lib/python3.11/site-packages (from jupyter_contrib_nbextensions) (7.10.0)\n",
      "Requirement already satisfied: lxml in /Users/skyriv213/anaconda3/lib/python3.11/site-packages (from jupyter_contrib_nbextensions) (4.9.3)\n",
      "Requirement already satisfied: setuptools in /Users/skyriv213/anaconda3/lib/python3.11/site-packages (from jupyter-contrib-core>=0.3.3->jupyter_nbextensions_configurator) (68.0.0)\n",
      "Requirement already satisfied: beautifulsoup4 in /Users/skyriv213/anaconda3/lib/python3.11/site-packages (from nbconvert>=6.0->jupyter_contrib_nbextensions) (4.12.2)\n",
      "Requirement already satisfied: bleach!=5.0.0 in /Users/skyriv213/anaconda3/lib/python3.11/site-packages (from nbconvert>=6.0->jupyter_contrib_nbextensions) (4.1.0)\n",
      "Requirement already satisfied: defusedxml in /Users/skyriv213/anaconda3/lib/python3.11/site-packages (from nbconvert>=6.0->jupyter_contrib_nbextensions) (0.7.1)\n",
      "Requirement already satisfied: jinja2>=3.0 in /Users/skyriv213/anaconda3/lib/python3.11/site-packages (from nbconvert>=6.0->jupyter_contrib_nbextensions) (3.1.3)\n",
      "Requirement already satisfied: jupyterlab-pygments in /Users/skyriv213/anaconda3/lib/python3.11/site-packages (from nbconvert>=6.0->jupyter_contrib_nbextensions) (0.1.2)\n",
      "Requirement already satisfied: markupsafe>=2.0 in /Users/skyriv213/anaconda3/lib/python3.11/site-packages (from nbconvert>=6.0->jupyter_contrib_nbextensions) (2.1.3)\n",
      "Requirement already satisfied: mistune<4,>=2.0.3 in /Users/skyriv213/anaconda3/lib/python3.11/site-packages (from nbconvert>=6.0->jupyter_contrib_nbextensions) (2.0.4)\n",
      "Requirement already satisfied: nbclient>=0.5.0 in /Users/skyriv213/anaconda3/lib/python3.11/site-packages (from nbconvert>=6.0->jupyter_contrib_nbextensions) (0.8.0)\n",
      "Requirement already satisfied: nbformat>=5.7 in /Users/skyriv213/anaconda3/lib/python3.11/site-packages (from nbconvert>=6.0->jupyter_contrib_nbextensions) (5.9.2)\n",
      "Requirement already satisfied: packaging in /Users/skyriv213/anaconda3/lib/python3.11/site-packages (from nbconvert>=6.0->jupyter_contrib_nbextensions) (23.1)\n",
      "Requirement already satisfied: pandocfilters>=1.4.1 in /Users/skyriv213/anaconda3/lib/python3.11/site-packages (from nbconvert>=6.0->jupyter_contrib_nbextensions) (1.5.0)\n",
      "Requirement already satisfied: pygments>=2.4.1 in /Users/skyriv213/anaconda3/lib/python3.11/site-packages (from nbconvert>=6.0->jupyter_contrib_nbextensions) (2.15.1)\n",
      "Requirement already satisfied: tinycss2 in /Users/skyriv213/anaconda3/lib/python3.11/site-packages (from nbconvert>=6.0->jupyter_contrib_nbextensions) (1.2.1)\n",
      "Requirement already satisfied: platformdirs>=2.5 in /Users/skyriv213/anaconda3/lib/python3.11/site-packages (from jupyter-core->jupyter_nbextensions_configurator) (3.10.0)\n",
      "Requirement already satisfied: pyzmq>=17 in /Users/skyriv213/anaconda3/lib/python3.11/site-packages (from notebook>=6.0->jupyter_nbextensions_configurator) (25.1.2)\n",
      "Requirement already satisfied: argon2-cffi in /Users/skyriv213/anaconda3/lib/python3.11/site-packages (from notebook>=6.0->jupyter_nbextensions_configurator) (21.3.0)\n",
      "Requirement already satisfied: jupyter-client>=5.3.4 in /Users/skyriv213/anaconda3/lib/python3.11/site-packages (from notebook>=6.0->jupyter_nbextensions_configurator) (8.6.0)\n",
      "Requirement already satisfied: nest-asyncio>=1.5 in /Users/skyriv213/anaconda3/lib/python3.11/site-packages (from notebook>=6.0->jupyter_nbextensions_configurator) (1.5.6)\n",
      "Requirement already satisfied: ipykernel in /Users/skyriv213/anaconda3/lib/python3.11/site-packages (from notebook>=6.0->jupyter_nbextensions_configurator) (6.28.0)\n",
      "Requirement already satisfied: Send2Trash>=1.8.0 in /Users/skyriv213/anaconda3/lib/python3.11/site-packages (from notebook>=6.0->jupyter_nbextensions_configurator) (1.8.2)\n",
      "Requirement already satisfied: terminado>=0.8.3 in /Users/skyriv213/anaconda3/lib/python3.11/site-packages (from notebook>=6.0->jupyter_nbextensions_configurator) (0.17.1)\n",
      "Requirement already satisfied: prometheus-client in /Users/skyriv213/anaconda3/lib/python3.11/site-packages (from notebook>=6.0->jupyter_nbextensions_configurator) (0.14.1)\n",
      "Requirement already satisfied: six>=1.9.0 in /Users/skyriv213/anaconda3/lib/python3.11/site-packages (from bleach!=5.0.0->nbconvert>=6.0->jupyter_contrib_nbextensions) (1.16.0)\n",
      "Requirement already satisfied: webencodings in /Users/skyriv213/anaconda3/lib/python3.11/site-packages (from bleach!=5.0.0->nbconvert>=6.0->jupyter_contrib_nbextensions) (0.5.1)\n",
      "Requirement already satisfied: python-dateutil>=2.8.2 in /Users/skyriv213/anaconda3/lib/python3.11/site-packages (from jupyter-client>=5.3.4->notebook>=6.0->jupyter_nbextensions_configurator) (2.8.2)\n",
      "Requirement already satisfied: fastjsonschema in /Users/skyriv213/anaconda3/lib/python3.11/site-packages (from nbformat>=5.7->nbconvert>=6.0->jupyter_contrib_nbextensions) (2.16.2)\n",
      "Requirement already satisfied: jsonschema>=2.6 in /Users/skyriv213/anaconda3/lib/python3.11/site-packages (from nbformat>=5.7->nbconvert>=6.0->jupyter_contrib_nbextensions) (4.19.2)\n",
      "Requirement already satisfied: ptyprocess in /Users/skyriv213/anaconda3/lib/python3.11/site-packages (from terminado>=0.8.3->notebook>=6.0->jupyter_nbextensions_configurator) (0.7.0)\n",
      "Requirement already satisfied: argon2-cffi-bindings in /Users/skyriv213/anaconda3/lib/python3.11/site-packages (from argon2-cffi->notebook>=6.0->jupyter_nbextensions_configurator) (21.2.0)\n",
      "Requirement already satisfied: soupsieve>1.2 in /Users/skyriv213/anaconda3/lib/python3.11/site-packages (from beautifulsoup4->nbconvert>=6.0->jupyter_contrib_nbextensions) (2.5)\n",
      "Requirement already satisfied: appnope in /Users/skyriv213/anaconda3/lib/python3.11/site-packages (from ipykernel->notebook>=6.0->jupyter_nbextensions_configurator) (0.1.2)\n",
      "Requirement already satisfied: comm>=0.1.1 in /Users/skyriv213/anaconda3/lib/python3.11/site-packages (from ipykernel->notebook>=6.0->jupyter_nbextensions_configurator) (0.1.2)\n",
      "Requirement already satisfied: debugpy>=1.6.5 in /Users/skyriv213/anaconda3/lib/python3.11/site-packages (from ipykernel->notebook>=6.0->jupyter_nbextensions_configurator) (1.6.7)\n",
      "Requirement already satisfied: ipython>=7.23.1 in /Users/skyriv213/anaconda3/lib/python3.11/site-packages (from ipykernel->notebook>=6.0->jupyter_nbextensions_configurator) (8.20.0)\n",
      "Requirement already satisfied: matplotlib-inline>=0.1 in /Users/skyriv213/anaconda3/lib/python3.11/site-packages (from ipykernel->notebook>=6.0->jupyter_nbextensions_configurator) (0.1.6)\n",
      "Requirement already satisfied: psutil in /Users/skyriv213/anaconda3/lib/python3.11/site-packages (from ipykernel->notebook>=6.0->jupyter_nbextensions_configurator) (5.9.0)\n",
      "Requirement already satisfied: decorator in /Users/skyriv213/anaconda3/lib/python3.11/site-packages (from ipython>=7.23.1->ipykernel->notebook>=6.0->jupyter_nbextensions_configurator) (5.1.1)\n",
      "Requirement already satisfied: jedi>=0.16 in /Users/skyriv213/anaconda3/lib/python3.11/site-packages (from ipython>=7.23.1->ipykernel->notebook>=6.0->jupyter_nbextensions_configurator) (0.18.1)\n",
      "Requirement already satisfied: prompt-toolkit<3.1.0,>=3.0.41 in /Users/skyriv213/anaconda3/lib/python3.11/site-packages (from ipython>=7.23.1->ipykernel->notebook>=6.0->jupyter_nbextensions_configurator) (3.0.43)\n",
      "Requirement already satisfied: stack-data in /Users/skyriv213/anaconda3/lib/python3.11/site-packages (from ipython>=7.23.1->ipykernel->notebook>=6.0->jupyter_nbextensions_configurator) (0.2.0)\n",
      "Requirement already satisfied: pexpect>4.3 in /Users/skyriv213/anaconda3/lib/python3.11/site-packages (from ipython>=7.23.1->ipykernel->notebook>=6.0->jupyter_nbextensions_configurator) (4.8.0)\n",
      "Requirement already satisfied: attrs>=22.2.0 in /Users/skyriv213/anaconda3/lib/python3.11/site-packages (from jsonschema>=2.6->nbformat>=5.7->nbconvert>=6.0->jupyter_contrib_nbextensions) (23.1.0)\n",
      "Requirement already satisfied: jsonschema-specifications>=2023.03.6 in /Users/skyriv213/anaconda3/lib/python3.11/site-packages (from jsonschema>=2.6->nbformat>=5.7->nbconvert>=6.0->jupyter_contrib_nbextensions) (2023.7.1)\n",
      "Requirement already satisfied: referencing>=0.28.4 in /Users/skyriv213/anaconda3/lib/python3.11/site-packages (from jsonschema>=2.6->nbformat>=5.7->nbconvert>=6.0->jupyter_contrib_nbextensions) (0.30.2)\n",
      "Requirement already satisfied: rpds-py>=0.7.1 in /Users/skyriv213/anaconda3/lib/python3.11/site-packages (from jsonschema>=2.6->nbformat>=5.7->nbconvert>=6.0->jupyter_contrib_nbextensions) (0.10.6)\n",
      "Requirement already satisfied: cffi>=1.0.1 in /Users/skyriv213/anaconda3/lib/python3.11/site-packages (from argon2-cffi-bindings->argon2-cffi->notebook>=6.0->jupyter_nbextensions_configurator) (1.16.0)\n",
      "Requirement already satisfied: pycparser in /Users/skyriv213/anaconda3/lib/python3.11/site-packages (from cffi>=1.0.1->argon2-cffi-bindings->argon2-cffi->notebook>=6.0->jupyter_nbextensions_configurator) (2.21)\n",
      "Requirement already satisfied: parso<0.9.0,>=0.8.0 in /Users/skyriv213/anaconda3/lib/python3.11/site-packages (from jedi>=0.16->ipython>=7.23.1->ipykernel->notebook>=6.0->jupyter_nbextensions_configurator) (0.8.3)\n",
      "Requirement already satisfied: wcwidth in /Users/skyriv213/anaconda3/lib/python3.11/site-packages (from prompt-toolkit<3.1.0,>=3.0.41->ipython>=7.23.1->ipykernel->notebook>=6.0->jupyter_nbextensions_configurator) (0.2.5)\n",
      "Requirement already satisfied: executing in /Users/skyriv213/anaconda3/lib/python3.11/site-packages (from stack-data->ipython>=7.23.1->ipykernel->notebook>=6.0->jupyter_nbextensions_configurator) (0.8.3)\n",
      "Requirement already satisfied: asttokens in /Users/skyriv213/anaconda3/lib/python3.11/site-packages (from stack-data->ipython>=7.23.1->ipykernel->notebook>=6.0->jupyter_nbextensions_configurator) (2.0.5)\n",
      "Requirement already satisfied: pure-eval in /Users/skyriv213/anaconda3/lib/python3.11/site-packages (from stack-data->ipython>=7.23.1->ipykernel->notebook>=6.0->jupyter_nbextensions_configurator) (0.2.2)\n"
     ]
    }
   ],
   "source": [
    "!pip install jupyter_nbextensions_configurator jupyter_contrib_nbextensions"
   ]
  },
  {
   "cell_type": "code",
   "execution_count": 8,
   "id": "5d2c613b-3b05-4c1d-8d8b-f276ee3e6f57",
   "metadata": {},
   "outputs": [
    {
     "name": "stdout",
     "output_type": "stream",
     "text": [
      "jupyter contrib nbextension install takes no extra arguments\n"
     ]
    }
   ],
   "source": [
    "!jupyter contrib nbextension install —user"
   ]
  },
  {
   "cell_type": "code",
   "execution_count": 9,
   "id": "781394d5-e9dd-46cd-bd3d-faccfbe77d2e",
   "metadata": {},
   "outputs": [
    {
     "name": "stdout",
     "output_type": "stream",
     "text": [
      "jupyter nbextensions_configurator enable takes no extra arguments\n"
     ]
    }
   ],
   "source": [
    "!jupyter nbextensions_configurator enable —user"
   ]
  },
  {
   "cell_type": "code",
   "execution_count": null,
   "id": "f8b07437-8287-4be8-823d-c458826f2ae0",
   "metadata": {},
   "outputs": [],
   "source": []
  }
 ],
 "metadata": {
  "kernelspec": {
   "display_name": "Python 3 (ipykernel)",
   "language": "python",
   "name": "python3"
  },
  "language_info": {
   "codemirror_mode": {
    "name": "ipython",
    "version": 3
   },
   "file_extension": ".py",
   "mimetype": "text/x-python",
   "name": "python",
   "nbconvert_exporter": "python",
   "pygments_lexer": "ipython3",
   "version": "3.11.5"
  }
 },
 "nbformat": 4,
 "nbformat_minor": 5
}
